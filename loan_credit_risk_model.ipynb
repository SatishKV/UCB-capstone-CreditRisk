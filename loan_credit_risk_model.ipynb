{
  "nbformat": 4,
  "nbformat_minor": 0,
  "metadata": {
    "colab": {
      "provenance": [],
      "authorship_tag": "ABX9TyNCpTPItnVMKXLp/MXkyk1C",
      "include_colab_link": true
    },
    "kernelspec": {
      "name": "python3",
      "display_name": "Python 3"
    },
    "language_info": {
      "name": "python"
    }
  },
  "cells": [
    {
      "cell_type": "markdown",
      "metadata": {
        "id": "view-in-github",
        "colab_type": "text"
      },
      "source": [
        "<a href=\"https://colab.research.google.com/github/SatishKV/UCB-capstone-CreditRisk/blob/main/loan_credit_risk_model.ipynb\" target=\"_parent\"><img src=\"https://colab.research.google.com/assets/colab-badge.svg\" alt=\"Open In Colab\"/></a>"
      ]
    },
    {
      "cell_type": "code",
      "execution_count": 1,
      "metadata": {
        "id": "acDU9aWJgKce"
      },
      "outputs": [],
      "source": [
        "\n",
        "import pandas as pd\n",
        "from sklearn.model_selection import train_test_split, GridSearchCV\n",
        "from sklearn.preprocessing import StandardScaler, OneHotEncoder\n",
        "from sklearn.pipeline import Pipeline\n",
        "from sklearn.dummy import DummyClassifier\n",
        "from sklearn.linear_model import LogisticRegression\n",
        "from sklearn.neighbors import KNeighborsClassifier\n",
        "from sklearn.tree import DecisionTreeClassifier\n",
        "from sklearn.svm import SVC\n",
        "from sklearn.compose import ColumnTransformer\n",
        "from sklearn.metrics import roc_curve, auc, accuracy_score\n",
        "import seaborn as sns\n",
        "import matplotlib.pyplot as plt\n",
        "import time"
      ]
    },
    {
      "cell_type": "code",
      "source": [
        "\n",
        "\n",
        "# Load the dataset (replace 'auto_loan_data.csv' with your dataset)\n",
        "loan_df = pd.read_csv('sample_data/financial_loan.csv')"
      ],
      "metadata": {
        "id": "Zxw0eTDnC56U"
      },
      "execution_count": 2,
      "outputs": []
    },
    {
      "cell_type": "code",
      "source": [
        "\n",
        "#Data Exploration\n",
        "loan_df.info()"
      ],
      "metadata": {
        "colab": {
          "base_uri": "https://localhost:8080/"
        },
        "id": "DZpb6UvFDTxJ",
        "outputId": "e0205900-010c-409e-8b5a-4743c247519c"
      },
      "execution_count": 3,
      "outputs": [
        {
          "output_type": "stream",
          "name": "stdout",
          "text": [
            "<class 'pandas.core.frame.DataFrame'>\n",
            "RangeIndex: 38576 entries, 0 to 38575\n",
            "Data columns (total 24 columns):\n",
            " #   Column                 Non-Null Count  Dtype  \n",
            "---  ------                 --------------  -----  \n",
            " 0   id                     38576 non-null  int64  \n",
            " 1   address_state          38576 non-null  object \n",
            " 2   application_type       38576 non-null  object \n",
            " 3   emp_length             38576 non-null  object \n",
            " 4   emp_title              37138 non-null  object \n",
            " 5   grade                  38576 non-null  object \n",
            " 6   home_ownership         38576 non-null  object \n",
            " 7   issue_date             38576 non-null  object \n",
            " 8   last_credit_pull_date  38576 non-null  object \n",
            " 9   last_payment_date      38576 non-null  object \n",
            " 10  loan_status            38576 non-null  object \n",
            " 11  next_payment_date      38576 non-null  object \n",
            " 12  member_id              38576 non-null  int64  \n",
            " 13  purpose                38576 non-null  object \n",
            " 14  sub_grade              38576 non-null  object \n",
            " 15  term                   38576 non-null  object \n",
            " 16  verification_status    38576 non-null  object \n",
            " 17  annual_income          38576 non-null  float64\n",
            " 18  dti                    38576 non-null  float64\n",
            " 19  installment            38576 non-null  float64\n",
            " 20  int_rate               38576 non-null  float64\n",
            " 21  loan_amount            38576 non-null  int64  \n",
            " 22  total_acc              38576 non-null  int64  \n",
            " 23  total_payment          38576 non-null  int64  \n",
            "dtypes: float64(4), int64(5), object(15)\n",
            "memory usage: 7.1+ MB\n"
          ]
        }
      ]
    },
    {
      "cell_type": "code",
      "source": [
        "loan_df.head()"
      ],
      "metadata": {
        "colab": {
          "base_uri": "https://localhost:8080/",
          "height": 360
        },
        "id": "xEyQBmmpGvix",
        "outputId": "e327af5e-a3af-47c3-ffd0-e8eab8788fd0"
      },
      "execution_count": 4,
      "outputs": [
        {
          "output_type": "execute_result",
          "data": {
            "text/plain": [
              "        id address_state application_type emp_length              emp_title  \\\n",
              "0  1077430            GA       INDIVIDUAL   < 1 year                  Ryder   \n",
              "1  1072053            CA       INDIVIDUAL    9 years         MKC Accounting   \n",
              "2  1069243            CA       INDIVIDUAL    4 years  Chemat Technology Inc   \n",
              "3  1041756            TX       INDIVIDUAL   < 1 year    barnes distribution   \n",
              "4  1068350            IL       INDIVIDUAL  10+ years          J&J Steel Inc   \n",
              "\n",
              "  grade home_ownership  issue_date last_credit_pull_date last_payment_date  \\\n",
              "0     C           RENT  11-02-2021            13-09-2021        13-04-2021   \n",
              "1     E           RENT  01-01-2021            14-12-2021        15-01-2021   \n",
              "2     C           RENT  05-01-2021            12-12-2021        09-01-2021   \n",
              "3     B       MORTGAGE  25-02-2021            12-12-2021        12-03-2021   \n",
              "4     A       MORTGAGE  01-01-2021            14-12-2021        15-01-2021   \n",
              "\n",
              "   ... sub_grade        term  verification_status annual_income     dti  \\\n",
              "0  ...        C4   60 months      Source Verified       30000.0  0.0100   \n",
              "1  ...        E1   36 months      Source Verified       48000.0  0.0535   \n",
              "2  ...        C5   36 months         Not Verified       50000.0  0.2088   \n",
              "3  ...        B2   60 months      Source Verified       42000.0  0.0540   \n",
              "4  ...        A1   36 months             Verified       83000.0  0.0231   \n",
              "\n",
              "  installment int_rate  loan_amount  total_acc  total_payment  \n",
              "0       59.83   0.1527         2500          4           1009  \n",
              "1      109.43   0.1864         3000          4           3939  \n",
              "2      421.65   0.1596        12000         11           3522  \n",
              "3       97.06   0.1065         4500          9           4911  \n",
              "4      106.53   0.0603         3500         28           3835  \n",
              "\n",
              "[5 rows x 24 columns]"
            ],
            "text/html": [
              "\n",
              "  <div id=\"df-ef4291a0-0474-47c8-bc03-96e469142489\" class=\"colab-df-container\">\n",
              "    <div>\n",
              "<style scoped>\n",
              "    .dataframe tbody tr th:only-of-type {\n",
              "        vertical-align: middle;\n",
              "    }\n",
              "\n",
              "    .dataframe tbody tr th {\n",
              "        vertical-align: top;\n",
              "    }\n",
              "\n",
              "    .dataframe thead th {\n",
              "        text-align: right;\n",
              "    }\n",
              "</style>\n",
              "<table border=\"1\" class=\"dataframe\">\n",
              "  <thead>\n",
              "    <tr style=\"text-align: right;\">\n",
              "      <th></th>\n",
              "      <th>id</th>\n",
              "      <th>address_state</th>\n",
              "      <th>application_type</th>\n",
              "      <th>emp_length</th>\n",
              "      <th>emp_title</th>\n",
              "      <th>grade</th>\n",
              "      <th>home_ownership</th>\n",
              "      <th>issue_date</th>\n",
              "      <th>last_credit_pull_date</th>\n",
              "      <th>last_payment_date</th>\n",
              "      <th>...</th>\n",
              "      <th>sub_grade</th>\n",
              "      <th>term</th>\n",
              "      <th>verification_status</th>\n",
              "      <th>annual_income</th>\n",
              "      <th>dti</th>\n",
              "      <th>installment</th>\n",
              "      <th>int_rate</th>\n",
              "      <th>loan_amount</th>\n",
              "      <th>total_acc</th>\n",
              "      <th>total_payment</th>\n",
              "    </tr>\n",
              "  </thead>\n",
              "  <tbody>\n",
              "    <tr>\n",
              "      <th>0</th>\n",
              "      <td>1077430</td>\n",
              "      <td>GA</td>\n",
              "      <td>INDIVIDUAL</td>\n",
              "      <td>&lt; 1 year</td>\n",
              "      <td>Ryder</td>\n",
              "      <td>C</td>\n",
              "      <td>RENT</td>\n",
              "      <td>11-02-2021</td>\n",
              "      <td>13-09-2021</td>\n",
              "      <td>13-04-2021</td>\n",
              "      <td>...</td>\n",
              "      <td>C4</td>\n",
              "      <td>60 months</td>\n",
              "      <td>Source Verified</td>\n",
              "      <td>30000.0</td>\n",
              "      <td>0.0100</td>\n",
              "      <td>59.83</td>\n",
              "      <td>0.1527</td>\n",
              "      <td>2500</td>\n",
              "      <td>4</td>\n",
              "      <td>1009</td>\n",
              "    </tr>\n",
              "    <tr>\n",
              "      <th>1</th>\n",
              "      <td>1072053</td>\n",
              "      <td>CA</td>\n",
              "      <td>INDIVIDUAL</td>\n",
              "      <td>9 years</td>\n",
              "      <td>MKC Accounting</td>\n",
              "      <td>E</td>\n",
              "      <td>RENT</td>\n",
              "      <td>01-01-2021</td>\n",
              "      <td>14-12-2021</td>\n",
              "      <td>15-01-2021</td>\n",
              "      <td>...</td>\n",
              "      <td>E1</td>\n",
              "      <td>36 months</td>\n",
              "      <td>Source Verified</td>\n",
              "      <td>48000.0</td>\n",
              "      <td>0.0535</td>\n",
              "      <td>109.43</td>\n",
              "      <td>0.1864</td>\n",
              "      <td>3000</td>\n",
              "      <td>4</td>\n",
              "      <td>3939</td>\n",
              "    </tr>\n",
              "    <tr>\n",
              "      <th>2</th>\n",
              "      <td>1069243</td>\n",
              "      <td>CA</td>\n",
              "      <td>INDIVIDUAL</td>\n",
              "      <td>4 years</td>\n",
              "      <td>Chemat Technology Inc</td>\n",
              "      <td>C</td>\n",
              "      <td>RENT</td>\n",
              "      <td>05-01-2021</td>\n",
              "      <td>12-12-2021</td>\n",
              "      <td>09-01-2021</td>\n",
              "      <td>...</td>\n",
              "      <td>C5</td>\n",
              "      <td>36 months</td>\n",
              "      <td>Not Verified</td>\n",
              "      <td>50000.0</td>\n",
              "      <td>0.2088</td>\n",
              "      <td>421.65</td>\n",
              "      <td>0.1596</td>\n",
              "      <td>12000</td>\n",
              "      <td>11</td>\n",
              "      <td>3522</td>\n",
              "    </tr>\n",
              "    <tr>\n",
              "      <th>3</th>\n",
              "      <td>1041756</td>\n",
              "      <td>TX</td>\n",
              "      <td>INDIVIDUAL</td>\n",
              "      <td>&lt; 1 year</td>\n",
              "      <td>barnes distribution</td>\n",
              "      <td>B</td>\n",
              "      <td>MORTGAGE</td>\n",
              "      <td>25-02-2021</td>\n",
              "      <td>12-12-2021</td>\n",
              "      <td>12-03-2021</td>\n",
              "      <td>...</td>\n",
              "      <td>B2</td>\n",
              "      <td>60 months</td>\n",
              "      <td>Source Verified</td>\n",
              "      <td>42000.0</td>\n",
              "      <td>0.0540</td>\n",
              "      <td>97.06</td>\n",
              "      <td>0.1065</td>\n",
              "      <td>4500</td>\n",
              "      <td>9</td>\n",
              "      <td>4911</td>\n",
              "    </tr>\n",
              "    <tr>\n",
              "      <th>4</th>\n",
              "      <td>1068350</td>\n",
              "      <td>IL</td>\n",
              "      <td>INDIVIDUAL</td>\n",
              "      <td>10+ years</td>\n",
              "      <td>J&amp;J Steel Inc</td>\n",
              "      <td>A</td>\n",
              "      <td>MORTGAGE</td>\n",
              "      <td>01-01-2021</td>\n",
              "      <td>14-12-2021</td>\n",
              "      <td>15-01-2021</td>\n",
              "      <td>...</td>\n",
              "      <td>A1</td>\n",
              "      <td>36 months</td>\n",
              "      <td>Verified</td>\n",
              "      <td>83000.0</td>\n",
              "      <td>0.0231</td>\n",
              "      <td>106.53</td>\n",
              "      <td>0.0603</td>\n",
              "      <td>3500</td>\n",
              "      <td>28</td>\n",
              "      <td>3835</td>\n",
              "    </tr>\n",
              "  </tbody>\n",
              "</table>\n",
              "<p>5 rows × 24 columns</p>\n",
              "</div>\n",
              "    <div class=\"colab-df-buttons\">\n",
              "\n",
              "  <div class=\"colab-df-container\">\n",
              "    <button class=\"colab-df-convert\" onclick=\"convertToInteractive('df-ef4291a0-0474-47c8-bc03-96e469142489')\"\n",
              "            title=\"Convert this dataframe to an interactive table.\"\n",
              "            style=\"display:none;\">\n",
              "\n",
              "  <svg xmlns=\"http://www.w3.org/2000/svg\" height=\"24px\" viewBox=\"0 -960 960 960\">\n",
              "    <path d=\"M120-120v-720h720v720H120Zm60-500h600v-160H180v160Zm220 220h160v-160H400v160Zm0 220h160v-160H400v160ZM180-400h160v-160H180v160Zm440 0h160v-160H620v160ZM180-180h160v-160H180v160Zm440 0h160v-160H620v160Z\"/>\n",
              "  </svg>\n",
              "    </button>\n",
              "\n",
              "  <style>\n",
              "    .colab-df-container {\n",
              "      display:flex;\n",
              "      gap: 12px;\n",
              "    }\n",
              "\n",
              "    .colab-df-convert {\n",
              "      background-color: #E8F0FE;\n",
              "      border: none;\n",
              "      border-radius: 50%;\n",
              "      cursor: pointer;\n",
              "      display: none;\n",
              "      fill: #1967D2;\n",
              "      height: 32px;\n",
              "      padding: 0 0 0 0;\n",
              "      width: 32px;\n",
              "    }\n",
              "\n",
              "    .colab-df-convert:hover {\n",
              "      background-color: #E2EBFA;\n",
              "      box-shadow: 0px 1px 2px rgba(60, 64, 67, 0.3), 0px 1px 3px 1px rgba(60, 64, 67, 0.15);\n",
              "      fill: #174EA6;\n",
              "    }\n",
              "\n",
              "    .colab-df-buttons div {\n",
              "      margin-bottom: 4px;\n",
              "    }\n",
              "\n",
              "    [theme=dark] .colab-df-convert {\n",
              "      background-color: #3B4455;\n",
              "      fill: #D2E3FC;\n",
              "    }\n",
              "\n",
              "    [theme=dark] .colab-df-convert:hover {\n",
              "      background-color: #434B5C;\n",
              "      box-shadow: 0px 1px 3px 1px rgba(0, 0, 0, 0.15);\n",
              "      filter: drop-shadow(0px 1px 2px rgba(0, 0, 0, 0.3));\n",
              "      fill: #FFFFFF;\n",
              "    }\n",
              "  </style>\n",
              "\n",
              "    <script>\n",
              "      const buttonEl =\n",
              "        document.querySelector('#df-ef4291a0-0474-47c8-bc03-96e469142489 button.colab-df-convert');\n",
              "      buttonEl.style.display =\n",
              "        google.colab.kernel.accessAllowed ? 'block' : 'none';\n",
              "\n",
              "      async function convertToInteractive(key) {\n",
              "        const element = document.querySelector('#df-ef4291a0-0474-47c8-bc03-96e469142489');\n",
              "        const dataTable =\n",
              "          await google.colab.kernel.invokeFunction('convertToInteractive',\n",
              "                                                    [key], {});\n",
              "        if (!dataTable) return;\n",
              "\n",
              "        const docLinkHtml = 'Like what you see? Visit the ' +\n",
              "          '<a target=\"_blank\" href=https://colab.research.google.com/notebooks/data_table.ipynb>data table notebook</a>'\n",
              "          + ' to learn more about interactive tables.';\n",
              "        element.innerHTML = '';\n",
              "        dataTable['output_type'] = 'display_data';\n",
              "        await google.colab.output.renderOutput(dataTable, element);\n",
              "        const docLink = document.createElement('div');\n",
              "        docLink.innerHTML = docLinkHtml;\n",
              "        element.appendChild(docLink);\n",
              "      }\n",
              "    </script>\n",
              "  </div>\n",
              "\n",
              "\n",
              "<div id=\"df-ab68a59e-fae0-4b53-8532-4cfc6edf1dbb\">\n",
              "  <button class=\"colab-df-quickchart\" onclick=\"quickchart('df-ab68a59e-fae0-4b53-8532-4cfc6edf1dbb')\"\n",
              "            title=\"Suggest charts\"\n",
              "            style=\"display:none;\">\n",
              "\n",
              "<svg xmlns=\"http://www.w3.org/2000/svg\" height=\"24px\"viewBox=\"0 0 24 24\"\n",
              "     width=\"24px\">\n",
              "    <g>\n",
              "        <path d=\"M19 3H5c-1.1 0-2 .9-2 2v14c0 1.1.9 2 2 2h14c1.1 0 2-.9 2-2V5c0-1.1-.9-2-2-2zM9 17H7v-7h2v7zm4 0h-2V7h2v10zm4 0h-2v-4h2v4z\"/>\n",
              "    </g>\n",
              "</svg>\n",
              "  </button>\n",
              "\n",
              "<style>\n",
              "  .colab-df-quickchart {\n",
              "      --bg-color: #E8F0FE;\n",
              "      --fill-color: #1967D2;\n",
              "      --hover-bg-color: #E2EBFA;\n",
              "      --hover-fill-color: #174EA6;\n",
              "      --disabled-fill-color: #AAA;\n",
              "      --disabled-bg-color: #DDD;\n",
              "  }\n",
              "\n",
              "  [theme=dark] .colab-df-quickchart {\n",
              "      --bg-color: #3B4455;\n",
              "      --fill-color: #D2E3FC;\n",
              "      --hover-bg-color: #434B5C;\n",
              "      --hover-fill-color: #FFFFFF;\n",
              "      --disabled-bg-color: #3B4455;\n",
              "      --disabled-fill-color: #666;\n",
              "  }\n",
              "\n",
              "  .colab-df-quickchart {\n",
              "    background-color: var(--bg-color);\n",
              "    border: none;\n",
              "    border-radius: 50%;\n",
              "    cursor: pointer;\n",
              "    display: none;\n",
              "    fill: var(--fill-color);\n",
              "    height: 32px;\n",
              "    padding: 0;\n",
              "    width: 32px;\n",
              "  }\n",
              "\n",
              "  .colab-df-quickchart:hover {\n",
              "    background-color: var(--hover-bg-color);\n",
              "    box-shadow: 0 1px 2px rgba(60, 64, 67, 0.3), 0 1px 3px 1px rgba(60, 64, 67, 0.15);\n",
              "    fill: var(--button-hover-fill-color);\n",
              "  }\n",
              "\n",
              "  .colab-df-quickchart-complete:disabled,\n",
              "  .colab-df-quickchart-complete:disabled:hover {\n",
              "    background-color: var(--disabled-bg-color);\n",
              "    fill: var(--disabled-fill-color);\n",
              "    box-shadow: none;\n",
              "  }\n",
              "\n",
              "  .colab-df-spinner {\n",
              "    border: 2px solid var(--fill-color);\n",
              "    border-color: transparent;\n",
              "    border-bottom-color: var(--fill-color);\n",
              "    animation:\n",
              "      spin 1s steps(1) infinite;\n",
              "  }\n",
              "\n",
              "  @keyframes spin {\n",
              "    0% {\n",
              "      border-color: transparent;\n",
              "      border-bottom-color: var(--fill-color);\n",
              "      border-left-color: var(--fill-color);\n",
              "    }\n",
              "    20% {\n",
              "      border-color: transparent;\n",
              "      border-left-color: var(--fill-color);\n",
              "      border-top-color: var(--fill-color);\n",
              "    }\n",
              "    30% {\n",
              "      border-color: transparent;\n",
              "      border-left-color: var(--fill-color);\n",
              "      border-top-color: var(--fill-color);\n",
              "      border-right-color: var(--fill-color);\n",
              "    }\n",
              "    40% {\n",
              "      border-color: transparent;\n",
              "      border-right-color: var(--fill-color);\n",
              "      border-top-color: var(--fill-color);\n",
              "    }\n",
              "    60% {\n",
              "      border-color: transparent;\n",
              "      border-right-color: var(--fill-color);\n",
              "    }\n",
              "    80% {\n",
              "      border-color: transparent;\n",
              "      border-right-color: var(--fill-color);\n",
              "      border-bottom-color: var(--fill-color);\n",
              "    }\n",
              "    90% {\n",
              "      border-color: transparent;\n",
              "      border-bottom-color: var(--fill-color);\n",
              "    }\n",
              "  }\n",
              "</style>\n",
              "\n",
              "  <script>\n",
              "    async function quickchart(key) {\n",
              "      const quickchartButtonEl =\n",
              "        document.querySelector('#' + key + ' button');\n",
              "      quickchartButtonEl.disabled = true;  // To prevent multiple clicks.\n",
              "      quickchartButtonEl.classList.add('colab-df-spinner');\n",
              "      try {\n",
              "        const charts = await google.colab.kernel.invokeFunction(\n",
              "            'suggestCharts', [key], {});\n",
              "      } catch (error) {\n",
              "        console.error('Error during call to suggestCharts:', error);\n",
              "      }\n",
              "      quickchartButtonEl.classList.remove('colab-df-spinner');\n",
              "      quickchartButtonEl.classList.add('colab-df-quickchart-complete');\n",
              "    }\n",
              "    (() => {\n",
              "      let quickchartButtonEl =\n",
              "        document.querySelector('#df-ab68a59e-fae0-4b53-8532-4cfc6edf1dbb button');\n",
              "      quickchartButtonEl.style.display =\n",
              "        google.colab.kernel.accessAllowed ? 'block' : 'none';\n",
              "    })();\n",
              "  </script>\n",
              "</div>\n",
              "\n",
              "    </div>\n",
              "  </div>\n"
            ],
            "application/vnd.google.colaboratory.intrinsic+json": {
              "type": "dataframe",
              "variable_name": "loan_df"
            }
          },
          "metadata": {},
          "execution_count": 4
        }
      ]
    },
    {
      "cell_type": "code",
      "source": [
        "loan_df['credit_risk_default_flag']=0\n",
        "loan_df.loc[ (loan_df['dti'] > 0.2)  & (loan_df['int_rate'] > 0.16), 'credit_risk_default_flag'] = 1\n",
        "\n",
        "loan_df['credit_risk_default_flag'].value_counts()"
      ],
      "metadata": {
        "id": "pOfXEtboALkF",
        "outputId": "0d50f795-6f30-43dc-f207-28783d4e19b2",
        "colab": {
          "base_uri": "https://localhost:8080/"
        }
      },
      "execution_count": 5,
      "outputs": [
        {
          "output_type": "execute_result",
          "data": {
            "text/plain": [
              "credit_risk_default_flag\n",
              "0    37362\n",
              "1     1214\n",
              "Name: count, dtype: int64"
            ]
          },
          "metadata": {},
          "execution_count": 5
        }
      ]
    },
    {
      "cell_type": "code",
      "source": [
        "X = loan_df[['emp_length','home_ownership', 'annual_income','verification_status',\n",
        "              'purpose', 'term','installment','total_acc', 'int_rate',\n",
        "             'total_payment','dti']]\n",
        "\n",
        "y = loan_df['credit_risk_default_flag']"
      ],
      "metadata": {
        "id": "vxOlLY_sAUjz"
      },
      "execution_count": 6,
      "outputs": []
    },
    {
      "cell_type": "code",
      "source": [
        "\n",
        "\n",
        "# Define categorical and numerical features\n",
        "categorical_features = ['emp_length', 'home_ownership', 'purpose',\n",
        "                        'term','verification_status']\n",
        "numerical_features = [ 'dti',  'annual_income','installment', 'int_rate',\n",
        "                      'total_acc', 'total_payment']\n",
        "\n",
        "# Define preprocessor for categorical features\n",
        "preprocessor = ColumnTransformer(\n",
        "    transformers=[\n",
        "        ('num', StandardScaler(), numerical_features),  # Apply StandardScaler to numeric features\n",
        "        ('cat', OneHotEncoder(), categorical_features)  # One-hot encode categorical features\n",
        "    ])"
      ],
      "metadata": {
        "id": "d_1rG8CKAYwB"
      },
      "execution_count": 7,
      "outputs": []
    },
    {
      "cell_type": "code",
      "source": [
        "\n",
        "\n",
        "# Split data into train and test sets\n",
        "X_train, X_test, y_train, y_test = train_test_split(X, y, test_size=0.2, random_state=42)"
      ],
      "metadata": {
        "id": "W9vNtB0NAcqR"
      },
      "execution_count": 8,
      "outputs": []
    },
    {
      "cell_type": "code",
      "source": [
        "#Define and train a dummy classifier\n",
        "dummy_classifier = DummyClassifier(strategy='most_frequent')\n",
        "dummy_classifier.fit(X_train,y_train)\n",
        "\n",
        "#Evaluate model accuracy & score\n",
        "baseline_score = dummy_classifier.score(X_test,y_test)\n",
        "\n",
        "### ANSWER CHECK\n",
        "print(\"Baseline Model Score:\",baseline_score)"
      ],
      "metadata": {
        "colab": {
          "base_uri": "https://localhost:8080/"
        },
        "id": "Cim1q6FhGK3M",
        "outputId": "3cfa450b-0454-458a-e68c-def5e2fd77c7"
      },
      "execution_count": 9,
      "outputs": [
        {
          "output_type": "stream",
          "name": "stdout",
          "text": [
            "Baseline Model Score: 0.9666925868325558\n"
          ]
        }
      ]
    },
    {
      "cell_type": "markdown",
      "source": [
        "A Simple Model Used **Logistic** **Regression** to build a basic model on loan data."
      ],
      "metadata": {
        "id": "go7wtSEOgxvU"
      }
    },
    {
      "cell_type": "code",
      "source": [
        "#Create pipeline with preprocessor and Logistic Regressor\n",
        "simple_pipe = Pipeline([('preprocessor', preprocessor),\n",
        "                     ('classifier', LogisticRegression(max_iter=1000))])\n",
        "simple_pipe.fit(X_train, y_train)"
      ],
      "metadata": {
        "colab": {
          "base_uri": "https://localhost:8080/",
          "height": 192
        },
        "id": "4dZswzAI7GlA",
        "outputId": "36ab246d-b601-49ac-8f4f-ec3ae0e1f39d"
      },
      "execution_count": 10,
      "outputs": [
        {
          "output_type": "execute_result",
          "data": {
            "text/plain": [
              "Pipeline(steps=[('preprocessor',\n",
              "                 ColumnTransformer(transformers=[('num', StandardScaler(),\n",
              "                                                  ['dti', 'annual_income',\n",
              "                                                   'installment', 'int_rate',\n",
              "                                                   'total_acc',\n",
              "                                                   'total_payment']),\n",
              "                                                 ('cat', OneHotEncoder(),\n",
              "                                                  ['emp_length',\n",
              "                                                   'home_ownership', 'purpose',\n",
              "                                                   'term',\n",
              "                                                   'verification_status'])])),\n",
              "                ('classifier', LogisticRegression(max_iter=1000))])"
            ],
            "text/html": [
              "<style>#sk-container-id-1 {color: black;background-color: white;}#sk-container-id-1 pre{padding: 0;}#sk-container-id-1 div.sk-toggleable {background-color: white;}#sk-container-id-1 label.sk-toggleable__label {cursor: pointer;display: block;width: 100%;margin-bottom: 0;padding: 0.3em;box-sizing: border-box;text-align: center;}#sk-container-id-1 label.sk-toggleable__label-arrow:before {content: \"▸\";float: left;margin-right: 0.25em;color: #696969;}#sk-container-id-1 label.sk-toggleable__label-arrow:hover:before {color: black;}#sk-container-id-1 div.sk-estimator:hover label.sk-toggleable__label-arrow:before {color: black;}#sk-container-id-1 div.sk-toggleable__content {max-height: 0;max-width: 0;overflow: hidden;text-align: left;background-color: #f0f8ff;}#sk-container-id-1 div.sk-toggleable__content pre {margin: 0.2em;color: black;border-radius: 0.25em;background-color: #f0f8ff;}#sk-container-id-1 input.sk-toggleable__control:checked~div.sk-toggleable__content {max-height: 200px;max-width: 100%;overflow: auto;}#sk-container-id-1 input.sk-toggleable__control:checked~label.sk-toggleable__label-arrow:before {content: \"▾\";}#sk-container-id-1 div.sk-estimator input.sk-toggleable__control:checked~label.sk-toggleable__label {background-color: #d4ebff;}#sk-container-id-1 div.sk-label input.sk-toggleable__control:checked~label.sk-toggleable__label {background-color: #d4ebff;}#sk-container-id-1 input.sk-hidden--visually {border: 0;clip: rect(1px 1px 1px 1px);clip: rect(1px, 1px, 1px, 1px);height: 1px;margin: -1px;overflow: hidden;padding: 0;position: absolute;width: 1px;}#sk-container-id-1 div.sk-estimator {font-family: monospace;background-color: #f0f8ff;border: 1px dotted black;border-radius: 0.25em;box-sizing: border-box;margin-bottom: 0.5em;}#sk-container-id-1 div.sk-estimator:hover {background-color: #d4ebff;}#sk-container-id-1 div.sk-parallel-item::after {content: \"\";width: 100%;border-bottom: 1px solid gray;flex-grow: 1;}#sk-container-id-1 div.sk-label:hover label.sk-toggleable__label {background-color: #d4ebff;}#sk-container-id-1 div.sk-serial::before {content: \"\";position: absolute;border-left: 1px solid gray;box-sizing: border-box;top: 0;bottom: 0;left: 50%;z-index: 0;}#sk-container-id-1 div.sk-serial {display: flex;flex-direction: column;align-items: center;background-color: white;padding-right: 0.2em;padding-left: 0.2em;position: relative;}#sk-container-id-1 div.sk-item {position: relative;z-index: 1;}#sk-container-id-1 div.sk-parallel {display: flex;align-items: stretch;justify-content: center;background-color: white;position: relative;}#sk-container-id-1 div.sk-item::before, #sk-container-id-1 div.sk-parallel-item::before {content: \"\";position: absolute;border-left: 1px solid gray;box-sizing: border-box;top: 0;bottom: 0;left: 50%;z-index: -1;}#sk-container-id-1 div.sk-parallel-item {display: flex;flex-direction: column;z-index: 1;position: relative;background-color: white;}#sk-container-id-1 div.sk-parallel-item:first-child::after {align-self: flex-end;width: 50%;}#sk-container-id-1 div.sk-parallel-item:last-child::after {align-self: flex-start;width: 50%;}#sk-container-id-1 div.sk-parallel-item:only-child::after {width: 0;}#sk-container-id-1 div.sk-dashed-wrapped {border: 1px dashed gray;margin: 0 0.4em 0.5em 0.4em;box-sizing: border-box;padding-bottom: 0.4em;background-color: white;}#sk-container-id-1 div.sk-label label {font-family: monospace;font-weight: bold;display: inline-block;line-height: 1.2em;}#sk-container-id-1 div.sk-label-container {text-align: center;}#sk-container-id-1 div.sk-container {/* jupyter's `normalize.less` sets `[hidden] { display: none; }` but bootstrap.min.css set `[hidden] { display: none !important; }` so we also need the `!important` here to be able to override the default hidden behavior on the sphinx rendered scikit-learn.org. See: https://github.com/scikit-learn/scikit-learn/issues/21755 */display: inline-block !important;position: relative;}#sk-container-id-1 div.sk-text-repr-fallback {display: none;}</style><div id=\"sk-container-id-1\" class=\"sk-top-container\"><div class=\"sk-text-repr-fallback\"><pre>Pipeline(steps=[(&#x27;preprocessor&#x27;,\n",
              "                 ColumnTransformer(transformers=[(&#x27;num&#x27;, StandardScaler(),\n",
              "                                                  [&#x27;dti&#x27;, &#x27;annual_income&#x27;,\n",
              "                                                   &#x27;installment&#x27;, &#x27;int_rate&#x27;,\n",
              "                                                   &#x27;total_acc&#x27;,\n",
              "                                                   &#x27;total_payment&#x27;]),\n",
              "                                                 (&#x27;cat&#x27;, OneHotEncoder(),\n",
              "                                                  [&#x27;emp_length&#x27;,\n",
              "                                                   &#x27;home_ownership&#x27;, &#x27;purpose&#x27;,\n",
              "                                                   &#x27;term&#x27;,\n",
              "                                                   &#x27;verification_status&#x27;])])),\n",
              "                (&#x27;classifier&#x27;, LogisticRegression(max_iter=1000))])</pre><b>In a Jupyter environment, please rerun this cell to show the HTML representation or trust the notebook. <br />On GitHub, the HTML representation is unable to render, please try loading this page with nbviewer.org.</b></div><div class=\"sk-container\" hidden><div class=\"sk-item sk-dashed-wrapped\"><div class=\"sk-label-container\"><div class=\"sk-label sk-toggleable\"><input class=\"sk-toggleable__control sk-hidden--visually\" id=\"sk-estimator-id-1\" type=\"checkbox\" ><label for=\"sk-estimator-id-1\" class=\"sk-toggleable__label sk-toggleable__label-arrow\">Pipeline</label><div class=\"sk-toggleable__content\"><pre>Pipeline(steps=[(&#x27;preprocessor&#x27;,\n",
              "                 ColumnTransformer(transformers=[(&#x27;num&#x27;, StandardScaler(),\n",
              "                                                  [&#x27;dti&#x27;, &#x27;annual_income&#x27;,\n",
              "                                                   &#x27;installment&#x27;, &#x27;int_rate&#x27;,\n",
              "                                                   &#x27;total_acc&#x27;,\n",
              "                                                   &#x27;total_payment&#x27;]),\n",
              "                                                 (&#x27;cat&#x27;, OneHotEncoder(),\n",
              "                                                  [&#x27;emp_length&#x27;,\n",
              "                                                   &#x27;home_ownership&#x27;, &#x27;purpose&#x27;,\n",
              "                                                   &#x27;term&#x27;,\n",
              "                                                   &#x27;verification_status&#x27;])])),\n",
              "                (&#x27;classifier&#x27;, LogisticRegression(max_iter=1000))])</pre></div></div></div><div class=\"sk-serial\"><div class=\"sk-item sk-dashed-wrapped\"><div class=\"sk-label-container\"><div class=\"sk-label sk-toggleable\"><input class=\"sk-toggleable__control sk-hidden--visually\" id=\"sk-estimator-id-2\" type=\"checkbox\" ><label for=\"sk-estimator-id-2\" class=\"sk-toggleable__label sk-toggleable__label-arrow\">preprocessor: ColumnTransformer</label><div class=\"sk-toggleable__content\"><pre>ColumnTransformer(transformers=[(&#x27;num&#x27;, StandardScaler(),\n",
              "                                 [&#x27;dti&#x27;, &#x27;annual_income&#x27;, &#x27;installment&#x27;,\n",
              "                                  &#x27;int_rate&#x27;, &#x27;total_acc&#x27;, &#x27;total_payment&#x27;]),\n",
              "                                (&#x27;cat&#x27;, OneHotEncoder(),\n",
              "                                 [&#x27;emp_length&#x27;, &#x27;home_ownership&#x27;, &#x27;purpose&#x27;,\n",
              "                                  &#x27;term&#x27;, &#x27;verification_status&#x27;])])</pre></div></div></div><div class=\"sk-parallel\"><div class=\"sk-parallel-item\"><div class=\"sk-item\"><div class=\"sk-label-container\"><div class=\"sk-label sk-toggleable\"><input class=\"sk-toggleable__control sk-hidden--visually\" id=\"sk-estimator-id-3\" type=\"checkbox\" ><label for=\"sk-estimator-id-3\" class=\"sk-toggleable__label sk-toggleable__label-arrow\">num</label><div class=\"sk-toggleable__content\"><pre>[&#x27;dti&#x27;, &#x27;annual_income&#x27;, &#x27;installment&#x27;, &#x27;int_rate&#x27;, &#x27;total_acc&#x27;, &#x27;total_payment&#x27;]</pre></div></div></div><div class=\"sk-serial\"><div class=\"sk-item\"><div class=\"sk-estimator sk-toggleable\"><input class=\"sk-toggleable__control sk-hidden--visually\" id=\"sk-estimator-id-4\" type=\"checkbox\" ><label for=\"sk-estimator-id-4\" class=\"sk-toggleable__label sk-toggleable__label-arrow\">StandardScaler</label><div class=\"sk-toggleable__content\"><pre>StandardScaler()</pre></div></div></div></div></div></div><div class=\"sk-parallel-item\"><div class=\"sk-item\"><div class=\"sk-label-container\"><div class=\"sk-label sk-toggleable\"><input class=\"sk-toggleable__control sk-hidden--visually\" id=\"sk-estimator-id-5\" type=\"checkbox\" ><label for=\"sk-estimator-id-5\" class=\"sk-toggleable__label sk-toggleable__label-arrow\">cat</label><div class=\"sk-toggleable__content\"><pre>[&#x27;emp_length&#x27;, &#x27;home_ownership&#x27;, &#x27;purpose&#x27;, &#x27;term&#x27;, &#x27;verification_status&#x27;]</pre></div></div></div><div class=\"sk-serial\"><div class=\"sk-item\"><div class=\"sk-estimator sk-toggleable\"><input class=\"sk-toggleable__control sk-hidden--visually\" id=\"sk-estimator-id-6\" type=\"checkbox\" ><label for=\"sk-estimator-id-6\" class=\"sk-toggleable__label sk-toggleable__label-arrow\">OneHotEncoder</label><div class=\"sk-toggleable__content\"><pre>OneHotEncoder()</pre></div></div></div></div></div></div></div></div><div class=\"sk-item\"><div class=\"sk-estimator sk-toggleable\"><input class=\"sk-toggleable__control sk-hidden--visually\" id=\"sk-estimator-id-7\" type=\"checkbox\" ><label for=\"sk-estimator-id-7\" class=\"sk-toggleable__label sk-toggleable__label-arrow\">LogisticRegression</label><div class=\"sk-toggleable__content\"><pre>LogisticRegression(max_iter=1000)</pre></div></div></div></div></div></div></div>"
            ]
          },
          "metadata": {},
          "execution_count": 10
        }
      ]
    },
    {
      "cell_type": "code",
      "source": [
        "#Evaluate simple model score\n",
        "simple_model_score = simple_pipe.score(X_test,y_test)\n",
        "simple_train_score = simple_pipe.score(X_train,y_train)\n",
        "\n",
        "### ANSWER CHECK\n",
        "print(\"Simple & Default Logistic test Score:\",simple_model_score)\n",
        "print(\"Simple & Default Logistic train Score:\",simple_train_score)"
      ],
      "metadata": {
        "id": "6_LOBo1PhE-4",
        "outputId": "787c026f-738f-4733-dcf5-7791c2196d2e",
        "colab": {
          "base_uri": "https://localhost:8080/"
        }
      },
      "execution_count": 11,
      "outputs": [
        {
          "output_type": "stream",
          "name": "stdout",
          "text": [
            "Simple & Default Logistic test Score: 0.9809486780715396\n",
            "Simple & Default Logistic train Score: 0.9820803629293584\n"
          ]
        }
      ]
    },
    {
      "cell_type": "code",
      "source": [
        "#simple_pipe\n",
        "# Predict probabilities on the testing data\n",
        "probas = simple_pipe.predict_proba(X_test)[:,1]\n",
        "#probas\n",
        "#y_test\n",
        "#Compute ROC Curve & AUC\n",
        "#fpr, tpr, thresholds = roc_curve(y_test, probas, pos_label='yes')\n",
        "fpr, tpr, thresholds = roc_curve(y_test, probas, pos_label=1)\n",
        "roc_auc = auc(fpr, tpr)\n",
        "\n",
        "# Plot ROC curves\n",
        "plt.figure(figsize=(10, 8))\n",
        "plt.plot(fpr, tpr, color='blue', lw=2, label='ROC Curve (AUC= %0.2f)' % roc_auc)\n",
        "#plt.plot(fpr, tpr, label='Logistc' (AUC = {roc_auc:.2f})')\n",
        "\n",
        "plt.plot([0, 1], [0, 1], linestyle='--', color='r', lw= '2' )\n",
        "plt.xlim([0.0,1.0])\n",
        "plt.ylim([0.0,1.05])\n",
        "plt.xlabel('False Positive Rate')\n",
        "plt.ylabel('True Positive Rate')\n",
        "plt.title('ROC Curve Comparison')\n",
        "plt.legend()\n",
        "plt.grid(True)\n",
        "plt.show()"
      ],
      "metadata": {
        "id": "Tsjmq-G_igf0",
        "outputId": "0f4da51c-7f82-4feb-fd60-27706b3dabf9",
        "colab": {
          "base_uri": "https://localhost:8080/",
          "height": 718
        }
      },
      "execution_count": 12,
      "outputs": [
        {
          "output_type": "display_data",
          "data": {
            "text/plain": [
              "<Figure size 1000x800 with 1 Axes>"
            ],
            "image/png": "[encoded data removed]"
          },
          "metadata": {}
        }
      ]
    },
    {
      "cell_type": "code",
      "source": [
        "# Define classifiers\n",
        "classifiers = {\n",
        "    'Logistic Regression': LogisticRegression(max_iter=1000),\n",
        "    'KNN': KNeighborsClassifier(),\n",
        "    'Decision Tree': DecisionTreeClassifier(),\n",
        "    'SVM': SVC(probability=True)\n",
        "}"
      ],
      "metadata": {
        "id": "q813K6srjt8u"
      },
      "execution_count": 13,
      "outputs": []
    },
    {
      "cell_type": "code",
      "source": [
        "# Create an empty list to store individual DataFrames\n",
        "dfs = []\n",
        "\n",
        "# Train classifiers and plot ROC curves\n",
        "plt.figure(figsize=(10, 8))\n",
        "# Measure training time and evaluate training accuracy\n",
        "for name, clf in classifiers.items():\n",
        "    start_time = time.time()\n",
        "    # Create pipeline with preprocessor and classifier\n",
        "    pipe = Pipeline([('preprocessor', preprocessor),\n",
        "                     ('classifier', clf)])\n",
        "    pipe.fit(X_train, y_train)\n",
        "    train_time = time.time() - start_time\n",
        "    print(\"Model Name:\",name)\n",
        "    train_accuracy = pipe.score(X_train, y_train)\n",
        "    # Evaluate test accuracy\n",
        "    test_accuracy = pipe.score(X_test, y_test)\n",
        "    model_df = pd.DataFrame({'Model': name, 'Train Time': train_time,'Train Accuracy': train_accuracy, 'Test Accuracy': test_accuracy}, index=[0])\n",
        "    dfs.append(model_df)\n",
        "    print(f\"{name}: Training time: {train_time:.4f}s, Training accuracy: {train_accuracy:.4f}\")\n",
        "    probas = pipe.predict_proba(X_test)\n",
        "    fpr, tpr, thresholds = roc_curve(y_test, probas[:, 1])\n",
        "    roc_auc = auc(fpr, tpr)\n",
        "    plt.plot(fpr, tpr, label=f'{name} (AUC = {roc_auc:.2f})')\n",
        "\n",
        "# Plot ROC curve for random guessing (baseline)\n",
        "plt.plot([0, 1], [0, 1], linestyle='--', color='r', label='Random Guessing')\n",
        "\n",
        "plt.xlabel('False Positive Rate')\n",
        "plt.ylabel('True Positive Rate')\n",
        "plt.title('Models with default - ROC Curve Comparison')\n",
        "plt.legend()\n",
        "plt.grid(True)\n",
        "plt.show()"
      ],
      "metadata": {
        "colab": {
          "base_uri": "https://localhost:8080/",
          "height": 861
        },
        "id": "yNL6ko1L7h0A",
        "outputId": "252a6641-09ed-41d8-da4c-61d2dc6abede"
      },
      "execution_count": 14,
      "outputs": [
        {
          "output_type": "stream",
          "name": "stdout",
          "text": [
            "Model Name: Logistic Regression\n",
            "Logistic Regression: Training time: 0.6280s, Training accuracy: 0.9821\n",
            "Model Name: KNN\n",
            "KNN: Training time: 0.2618s, Training accuracy: 0.9839\n",
            "Model Name: Decision Tree\n",
            "Decision Tree: Training time: 0.0910s, Training accuracy: 1.0000\n",
            "Model Name: SVM\n",
            "SVM: Training time: 20.6393s, Training accuracy: 0.9923\n"
          ]
        },
        {
          "output_type": "display_data",
          "data": {
            "text/plain": [
              "<Figure size 1000x800 with 1 Axes>"
            ],
            "image/png": "[encoded data removed]"
          },
          "metadata": {}
        }
      ]
    },
    {
      "cell_type": "code",
      "source": [],
      "metadata": {
        "id": "oc_-io2P7jMF"
      },
      "execution_count": null,
      "outputs": []
    }
  ]
}