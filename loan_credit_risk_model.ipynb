{
  "nbformat": 4,
  "nbformat_minor": 0,
  "metadata": {
    "colab": {
      "provenance": [],
      "authorship_tag": "ABX9TyM3xMR/eSFscLtmz64CYFXA",
      "include_colab_link": true
    },
    "kernelspec": {
      "name": "python3",
      "display_name": "Python 3"
    },
    "language_info": {
      "name": "python"
    }
  },
  "cells": [
    {
      "cell_type": "markdown",
      "metadata": {
        "id": "view-in-github",
        "colab_type": "text"
      },
      "source": [
        "<a href=\"https://colab.research.google.com/github/SatishKV/UCB-capstone-CreditRisk/blob/main/loan_credit_risk_model.ipynb\" target=\"_parent\"><img src=\"https://colab.research.google.com/assets/colab-badge.svg\" alt=\"Open In Colab\"/></a>"
      ]
    },
    {
      "cell_type": "code",
      "execution_count": 1,
      "metadata": {
        "id": "acDU9aWJgKce"
      },
      "outputs": [],
      "source": [
        "\n",
        "import pandas as pd\n",
        "from sklearn.model_selection import train_test_split, GridSearchCV\n",
        "from sklearn.preprocessing import StandardScaler, OneHotEncoder\n",
        "from sklearn.pipeline import Pipeline\n",
        "from sklearn.dummy import DummyClassifier\n",
        "from sklearn.linear_model import LogisticRegression\n",
        "from sklearn.neighbors import KNeighborsClassifier\n",
        "from sklearn.tree import DecisionTreeClassifier\n",
        "from sklearn.svm import SVC\n",
        "from sklearn.compose import ColumnTransformer\n",
        "from sklearn.metrics import roc_curve, auc, accuracy_score\n",
        "import seaborn as sns\n",
        "import matplotlib.pyplot as plt\n",
        "import time"
      ]
    },
    {
      "cell_type": "code",
      "source": [
        "\n",
        "\n",
        "# Load the dataset (replace 'auto_loan_data.csv' with your dataset)\n",
        "loan_df = pd.read_csv('sample_data/financial_loan.csv')"
      ],
      "metadata": {
        "id": "Zxw0eTDnC56U"
      },
      "execution_count": 2,
      "outputs": []
    },
    {
      "cell_type": "code",
      "source": [
        "\n",
        "#Data Exploration\n",
        "loan_df.info()"
      ],
      "metadata": {
        "colab": {
          "base_uri": "https://localhost:8080/"
        },
        "id": "DZpb6UvFDTxJ",
        "outputId": "c10e2cbd-a27b-4e95-a153-d05b4544d4c5"
      },
      "execution_count": 3,
      "outputs": [
        {
          "output_type": "stream",
          "name": "stdout",
          "text": [
            "<class 'pandas.core.frame.DataFrame'>\n",
            "RangeIndex: 38576 entries, 0 to 38575\n",
            "Data columns (total 24 columns):\n",
            " #   Column                 Non-Null Count  Dtype  \n",
            "---  ------                 --------------  -----  \n",
            " 0   id                     38576 non-null  int64  \n",
            " 1   address_state          38576 non-null  object \n",
            " 2   application_type       38576 non-null  object \n",
            " 3   emp_length             38576 non-null  object \n",
            " 4   emp_title              37138 non-null  object \n",
            " 5   grade                  38576 non-null  object \n",
            " 6   home_ownership         38576 non-null  object \n",
            " 7   issue_date             38576 non-null  object \n",
            " 8   last_credit_pull_date  38576 non-null  object \n",
            " 9   last_payment_date      38576 non-null  object \n",
            " 10  loan_status            38576 non-null  object \n",
            " 11  next_payment_date      38576 non-null  object \n",
            " 12  member_id              38576 non-null  int64  \n",
            " 13  purpose                38576 non-null  object \n",
            " 14  sub_grade              38576 non-null  object \n",
            " 15  term                   38576 non-null  object \n",
            " 16  verification_status    38576 non-null  object \n",
            " 17  annual_income          38576 non-null  float64\n",
            " 18  dti                    38576 non-null  float64\n",
            " 19  installment            38576 non-null  float64\n",
            " 20  int_rate               38576 non-null  float64\n",
            " 21  loan_amount            38576 non-null  int64  \n",
            " 22  total_acc              38576 non-null  int64  \n",
            " 23  total_payment          38576 non-null  int64  \n",
            "dtypes: float64(4), int64(5), object(15)\n",
            "memory usage: 7.1+ MB\n"
          ]
        }
      ]
    },
    {
      "cell_type": "code",
      "source": [],
      "metadata": {
        "id": "g3vMtUfcDWxV"
      },
      "execution_count": null,
      "outputs": []
    }
  ]
}